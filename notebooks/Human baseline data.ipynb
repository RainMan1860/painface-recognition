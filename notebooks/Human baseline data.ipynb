{
 "cells": [
  {
   "cell_type": "markdown",
   "metadata": {},
   "source": [
    "## Human Expert Baseline"
   ]
  },
  {
   "cell_type": "code",
   "execution_count": 1,
   "metadata": {
    "collapsed": true
   },
   "outputs": [],
   "source": [
    "import pandas as pd"
   ]
  },
  {
   "cell_type": "code",
   "execution_count": 6,
   "metadata": {},
   "outputs": [],
   "source": [
    "df = pd.read_csv('../data/human_baseline.csv', sep=';')"
   ]
  },
  {
   "cell_type": "code",
   "execution_count": 7,
   "metadata": {},
   "outputs": [
    {
     "name": "stdout",
     "output_type": "stream",
     "text": [
      "    Hest Pain/no pain       JW      PHA        F       JL\n",
      "1      1         pain     pain     pain     pain     pain\n",
      "2      1      no pain  no pain  no pain  no pain  no pain\n",
      "13     1         pain     pain     pain     pain     pain\n",
      "19     1      no pain     pain  no pain     pain  no pain\n",
      "37     1         pain  no pain     pain     pain  no pain\n",
      "40     1      no pain  no pain     pain     pain  no pain\n",
      "    Hest Pain/no pain       JW      PHA        F       JL\n",
      "5      2      no pain  no pain     pain     pain  no pain\n",
      "10     2         pain     pain     pain     pain  no pain\n",
      "17     2      no pain  no pain  no pain  no pain  no pain\n",
      "18     2      no pain  no pain     pain     pain  no pain\n",
      "22     2         pain     pain     pain     pain  no pain\n",
      "25     2         pain     pain     pain     pain  no pain\n",
      "32     2         pain     pain     pain     pain  no pain\n",
      "45     2         pain     pain     pain     pain  no pain\n",
      "48     2         pain     pain     pain  no pain  no pain\n",
      "    Hest Pain/no pain       JW      PHA        F       JL\n",
      "3      3         pain     pain     pain     pain  no pain\n",
      "7      3         pain     pain  no pain  no pain  no pain\n",
      "15     3         pain  no pain  no pain  no pain  no pain\n",
      "21     3      no pain     pain     pain     pain  no pain\n",
      "26     3         pain     pain  no pain  no pain  no pain\n",
      "27     3      no pain     pain     pain     pain  no pain\n",
      "33     3         pain  no pain  no pain  no pain  no pain\n",
      "43     3      no pain  no pain  no pain  no pain  no pain\n",
      "46     3         pain     pain  no pain  no pain     pain\n",
      "    Hest Pain/no pain       JW      PHA        F       JL\n",
      "0      4      no pain     pain  no pain  no pain  no pain\n",
      "8      4         pain     pain     pain     pain     pain\n",
      "11     4      no pain  no pain  no pain  no pain  no pain\n",
      "29     4         pain     pain  no pain     pain  no pain\n",
      "36     4      no pain     pain  no pain  no pain  no pain\n",
      "41     4         pain     pain     pain     pain  no pain\n",
      "42     4         pain     pain     pain     pain  no pain\n",
      "49     4         pain     pain     pain  no pain  no pain\n",
      "50     4         pain     pain     pain     pain  no pain\n",
      "    Hest Pain/no pain       JW      PHA        F       JL\n",
      "6      5      no pain     pain     pain  no pain  no pain\n",
      "9      5         pain  no pain  no pain  no pain  no pain\n",
      "14     5         pain     pain     pain     pain     pain\n",
      "24     5      no pain  no pain     pain     pain     pain\n",
      "31     5         pain  no pain  no pain  no pain  no pain\n",
      "34     5         pain     pain  no pain  no pain  no pain\n",
      "38     5         pain     pain     pain     pain     pain\n",
      "44     5         pain     pain     pain     pain  no pain\n",
      "47     5      no pain     pain  no pain     pain  no pain\n",
      "    Hest Pain/no pain       JW      PHA        F       JL\n",
      "4      6         pain     pain  no pain     pain  no pain\n",
      "12     6      no pain  no pain  no pain  no pain  no pain\n",
      "16     6         pain     pain     pain     pain  no pain\n",
      "20     6      no pain  no pain     pain  no pain  no pain\n",
      "23     6         pain  no pain  no pain  no pain     pain\n",
      "28     6         pain     pain     pain     pain     pain\n",
      "30     6         pain     pain     pain     pain  no pain\n",
      "35     6         pain     pain     pain     pain  no pain\n",
      "39     6      no pain  no pain  no pain  no pain  no pain\n"
     ]
    }
   ],
   "source": [
    "per_horse_dfs = []\n",
    "for i in range(1,7):\n",
    "    hdf = df.loc[(df['Hest']==i), ('Hest','Pain/no pain', 'JW', 'PHA', 'F', 'JL') ]\n",
    "    print(hdf)\n",
    "    per_horse_dfs.append(hdf)"
   ]
  },
  {
   "cell_type": "code",
   "execution_count": 8,
   "metadata": {
    "collapsed": true
   },
   "outputs": [],
   "source": [
    "vets = ['JW', 'PHA', 'F', 'JL']"
   ]
  },
  {
   "cell_type": "code",
   "execution_count": 9,
   "metadata": {
    "collapsed": true
   },
   "outputs": [],
   "source": [
    "import numpy as np"
   ]
  },
  {
   "cell_type": "code",
   "execution_count": 10,
   "metadata": {},
   "outputs": [
    {
     "data": {
      "text/plain": [
       "list"
      ]
     },
     "execution_count": 10,
     "metadata": {},
     "output_type": "execute_result"
    }
   ],
   "source": [
    "len(per_horse_dfs)\n",
    "type(vets)"
   ]
  },
  {
   "cell_type": "code",
   "execution_count": 11,
   "metadata": {
    "collapsed": true
   },
   "outputs": [],
   "source": [
    "per_horse_score_arrays = []\n",
    "for i, hdf in enumerate(per_horse_dfs):\n",
    "    nb_samples = len(hdf)\n",
    "    #print(nb_samples)\n",
    "    score_array = np.zeros((nb_samples, len(vets)))\n",
    "    for v, vet in enumerate(vets):\n",
    "        #print('v', v)\n",
    "        #print('vet', vet)\n",
    "        ind = 0\n",
    "        for index, row in hdf.iterrows():\n",
    "            #print('ind', ind)\n",
    "            #print('row', row['JW'])\n",
    "            #print('PNP', row['Pain/no pain'])\n",
    "            #print('vet row', row['PHA'])\n",
    "            if row['Pain/no pain'] == row[vet]:\n",
    "                score_array[ind, v] = 1\n",
    "            else:\n",
    "                score_array[ind, v] = 0\n",
    "            ind += 1\n",
    "    #print(score_array)\n",
    "    per_horse_score_arrays.append(score_array)\n",
    "                "
   ]
  },
  {
   "cell_type": "code",
   "execution_count": 12,
   "metadata": {
    "collapsed": true
   },
   "outputs": [],
   "source": [
    "def get_score(score_array, vet_ind):\n",
    "    nb_correct = np.sum(score_array[:, vet_ind])\n",
    "    #print(nb_correct)\n",
    "    nb_samples = score_array.shape[0]\n",
    "    #print(nb_samples)\n",
    "    score = nb_correct / nb_samples\n",
    "    #print('score ', score)\n",
    "    return score"
   ]
  },
  {
   "cell_type": "code",
   "execution_count": 13,
   "metadata": {},
   "outputs": [
    {
     "name": "stdout",
     "output_type": "stream",
     "text": [
      "('Average: ', 0.75)\n",
      "('Average: ', 0.69444444444444442)\n",
      "('Average: ', 0.3611111111111111)\n",
      "('Average: ', 0.75)\n",
      "('Average: ', 0.47222222222222221)\n",
      "('Average: ', 0.75)\n"
     ]
    }
   ],
   "source": [
    "per_horse_scores = []\n",
    "for h in range(0,6):\n",
    "    sa = per_horse_score_arrays[h]\n",
    "    #print('HORSE ', h+1)\n",
    "    scores = np.zeros(4)\n",
    "    for v, vet in enumerate(vets):\n",
    "        score = get_score(sa, v)\n",
    "        #print('Score of ' + vet + ':')\n",
    "        scores[v] = score\n",
    "    #print(scores)\n",
    "    print('Average: ', np.average(scores))\n",
    "    per_horse_scores.append(scores)\n",
    "        "
   ]
  },
  {
   "cell_type": "code",
   "execution_count": 14,
   "metadata": {},
   "outputs": [
    {
     "data": {
      "text/plain": [
       "[array([ 0.66666667,  0.83333333,  0.66666667,  0.83333333]),\n",
       " array([ 1.        ,  0.77777778,  0.66666667,  0.33333333]),\n",
       " array([ 0.55555556,  0.22222222,  0.22222222,  0.44444444]),\n",
       " array([ 0.77777778,  0.88888889,  0.88888889,  0.44444444]),\n",
       " array([ 0.55555556,  0.44444444,  0.44444444,  0.44444444]),\n",
       " array([ 0.88888889,  0.66666667,  0.88888889,  0.55555556])]"
      ]
     },
     "execution_count": 14,
     "metadata": {},
     "output_type": "execute_result"
    }
   ],
   "source": [
    "per_horse_scores"
   ]
  },
  {
   "cell_type": "code",
   "execution_count": 15,
   "metadata": {},
   "outputs": [
    {
     "name": "stdout",
     "output_type": "stream",
     "text": [
      "0.75\n",
      "0.694444444444\n",
      "0.361111111111\n",
      "0.75\n",
      "0.472222222222\n",
      "0.75\n"
     ]
    }
   ],
   "source": [
    "per_horse_averages = []\n",
    "for sc, scores in enumerate(per_horse_scores):\n",
    "    #print('Average for horse ', sc)\n",
    "    #print(scores)\n",
    "    av = np.average(scores)\n",
    "    print(av)\n",
    "    per_horse_averages.append(av)"
   ]
  },
  {
   "cell_type": "code",
   "execution_count": 16,
   "metadata": {},
   "outputs": [
    {
     "data": {
      "text/plain": [
       "0.62962962962962965"
      ]
     },
     "execution_count": 16,
     "metadata": {},
     "output_type": "execute_result"
    }
   ],
   "source": [
    "ultimate_average = np.average(np.asarray(per_horse_averages))\n",
    "ultimate_average"
   ]
  },
  {
   "cell_type": "code",
   "execution_count": 17,
   "metadata": {
    "collapsed": true
   },
   "outputs": [],
   "source": [
    "scores_as_array = np.asarray(per_horse_scores)"
   ]
  },
  {
   "cell_type": "code",
   "execution_count": 18,
   "metadata": {},
   "outputs": [
    {
     "data": {
      "text/plain": [
       "array([[ 0.66666667,  0.83333333,  0.66666667,  0.83333333],\n",
       "       [ 1.        ,  0.77777778,  0.66666667,  0.33333333],\n",
       "       [ 0.55555556,  0.22222222,  0.22222222,  0.44444444],\n",
       "       [ 0.77777778,  0.88888889,  0.88888889,  0.44444444],\n",
       "       [ 0.55555556,  0.44444444,  0.44444444,  0.44444444],\n",
       "       [ 0.88888889,  0.66666667,  0.88888889,  0.55555556]])"
      ]
     },
     "execution_count": 18,
     "metadata": {},
     "output_type": "execute_result"
    }
   ],
   "source": [
    "scores_as_array"
   ]
  },
  {
   "cell_type": "code",
   "execution_count": 19,
   "metadata": {},
   "outputs": [
    {
     "name": "stdout",
     "output_type": "stream",
     "text": [
      "('Average for vet ', 'JW')\n",
      "0.740740740741\n",
      "('Average for vet ', 'PHA')\n",
      "0.638888888889\n",
      "('Average for vet ', 'F')\n",
      "0.62962962963\n",
      "('Average for vet ', 'JL')\n",
      "0.509259259259\n"
     ]
    }
   ],
   "source": [
    "for i in range(0,4):\n",
    "    print('Average for vet ', vets[i])\n",
    "    print(np.average(scores_as_array[:,i]))"
   ]
  },
  {
   "cell_type": "code",
   "execution_count": 20,
   "metadata": {
    "collapsed": true
   },
   "outputs": [],
   "source": [
    "sums = []\n",
    "for v in range(0,4):\n",
    "    sum = 0\n",
    "    for h in range(0,6):\n",
    "        nb_right = np.sum(per_horse_score_arrays[h][:,v])\n",
    "        sum += nb_right\n",
    "    sums.append(sum)"
   ]
  },
  {
   "cell_type": "markdown",
   "metadata": {},
   "source": [
    "### Correct guesses per vet"
   ]
  },
  {
   "cell_type": "code",
   "execution_count": 21,
   "metadata": {},
   "outputs": [
    {
     "data": {
      "text/plain": [
       "[38.0, 32.0, 32.0, 25.0]"
      ]
     },
     "execution_count": 21,
     "metadata": {},
     "output_type": "execute_result"
    }
   ],
   "source": [
    "sums"
   ]
  },
  {
   "cell_type": "code",
   "execution_count": 22,
   "metadata": {},
   "outputs": [
    {
     "data": {
      "text/plain": [
       "0.7450980392156863"
      ]
     },
     "execution_count": 22,
     "metadata": {},
     "output_type": "execute_result"
    }
   ],
   "source": [
    "38.0/51.0"
   ]
  },
  {
   "cell_type": "code",
   "execution_count": 23,
   "metadata": {},
   "outputs": [
    {
     "data": {
      "text/plain": [
       "0.6274509803921569"
      ]
     },
     "execution_count": 23,
     "metadata": {},
     "output_type": "execute_result"
    }
   ],
   "source": [
    "32.0/51"
   ]
  },
  {
   "cell_type": "code",
   "execution_count": 24,
   "metadata": {
    "collapsed": true
   },
   "outputs": [],
   "source": [
    "y_pnp = df['Pain/no pain'].values"
   ]
  },
  {
   "cell_type": "code",
   "execution_count": 25,
   "metadata": {
    "collapsed": true
   },
   "outputs": [],
   "source": [
    "def make_column_binary(column):\n",
    "    y = np.zeros(len(column))\n",
    "    for e, element in enumerate(column):\n",
    "        if element == 'pain':\n",
    "            value = 1\n",
    "        else:\n",
    "            value = 0\n",
    "        y[e] = value\n",
    "    return y"
   ]
  },
  {
   "cell_type": "code",
   "execution_count": 27,
   "metadata": {},
   "outputs": [
    {
     "name": "stdout",
     "output_type": "stream",
     "text": [
      "[ 1.  1.  0.  1.  1.  0.  1.  1.  1.  0.  1.  0.  0.  1.  1.  0.  1.  0.\n",
      "  0.  1.  0.  1.  1.  0.  0.  1.  1.  1.  1.  1.  1.  0.  1.  0.  1.  1.\n",
      "  1.  0.  1.  0.  0.  1.  1.  0.  1.  1.  1.  1.  1.  1.  1.]\n",
      "51 51 51 51\n"
     ]
    }
   ],
   "source": [
    "y_true = make_column_binary(df['Pain/no pain'].values.tolist())\n",
    "y_JW = make_column_binary(df['JW'].values)\n",
    "y_PHA = make_column_binary(df['PHA'].values)\n",
    "y_F = make_column_binary(df['F'].values)\n",
    "y_JL = make_column_binary(df['JL'].values)\n",
    "print(y_JW)\n",
    "print len(y_true), len(y_JW), len(y_PHA), len(y_JL)"
   ]
  },
  {
   "cell_type": "code",
   "execution_count": 28,
   "metadata": {
    "collapsed": true
   },
   "outputs": [],
   "source": [
    "per_horse_ys = []\n",
    "names = ['Pain/no pain', 'JW', 'PHA', 'F', 'JL']\n",
    "for h in range(0,6):\n",
    "    hdf = per_horse_dfs[h]\n",
    "    nb_samples = len(hdf)\n",
    "    ar = np.zeros((nb_samples, 5))\n",
    "    for n in range(len(names)):\n",
    "        vs = hdf[names[n]].values.tolist()\n",
    "        y = make_column_binary(vs)\n",
    "        #print y\n",
    "        ar[:,n] = y\n",
    "    #print(ar)\n",
    "    per_horse_ys.append(ar)"
   ]
  },
  {
   "cell_type": "code",
   "execution_count": 29,
   "metadata": {
    "collapsed": true
   },
   "outputs": [],
   "source": [
    "from sklearn.metrics import classification_report, confusion_matrix, f1_score"
   ]
  },
  {
   "cell_type": "code",
   "execution_count": 30,
   "metadata": {},
   "outputs": [
    {
     "name": "stdout",
     "output_type": "stream",
     "text": [
      "             precision    recall  f1-score   support\n",
      "\n",
      "        0.0       0.65      0.61      0.63        18\n",
      "        1.0       0.79      0.82      0.81        33\n",
      "\n",
      "avg / total       0.74      0.75      0.74        51\n",
      "\n",
      "             precision    recall  f1-score   support\n",
      "\n",
      "        0.0       0.48      0.56      0.51        18\n",
      "        1.0       0.73      0.67      0.70        33\n",
      "\n",
      "avg / total       0.64      0.63      0.63        51\n",
      "\n",
      "             precision    recall  f1-score   support\n",
      "\n",
      "        0.0       0.48      0.56      0.51        18\n",
      "        1.0       0.73      0.67      0.70        33\n",
      "\n",
      "avg / total       0.64      0.63      0.63        51\n",
      "\n",
      "             precision    recall  f1-score   support\n",
      "\n",
      "        0.0       0.40      0.94      0.57        18\n",
      "        1.0       0.89      0.24      0.38        33\n",
      "\n",
      "avg / total       0.72      0.49      0.45        51\n",
      "\n"
     ]
    }
   ],
   "source": [
    "# TOTAL F1-scores\n",
    "\n",
    "cr_JW = classification_report(y_true, y_JW)\n",
    "print(cr_JW)\n",
    "\n",
    "cr_PHA = classification_report(y_true, y_PHA)\n",
    "print(cr_PHA)\n",
    "\n",
    "cr_F = classification_report(y_true, y_F)\n",
    "print(cr_F)\n",
    "\n",
    "cr_JL = classification_report(y_true, y_JL)\n",
    "print(cr_JL)"
   ]
  },
  {
   "cell_type": "code",
   "execution_count": 31,
   "metadata": {},
   "outputs": [
    {
     "data": {
      "text/plain": [
       "(9, 5)"
      ]
     },
     "execution_count": 31,
     "metadata": {},
     "output_type": "execute_result"
    }
   ],
   "source": [
    "# f1-scores PER HORSE\n",
    "len(per_horse_ys)\n",
    "per_horse_ys[1].shape\n",
    "# List of 6 arrays of shape (nb_samples, 5)"
   ]
  },
  {
   "cell_type": "code",
   "execution_count": 32,
   "metadata": {},
   "outputs": [
    {
     "name": "stdout",
     "output_type": "stream",
     "text": [
      "[0.66666666666666663, 0.82857142857142863, 0.62499999999999989, 0.82857142857142863]\n",
      "Average\n",
      "0.737202380952\n",
      "STDEV\n",
      "0.0925489964921\n",
      "[1.0, 0.73809523809523803, 0.64615384615384608, 0.16666666666666666]\n",
      "Average\n",
      "0.637728937729\n",
      "STDEV\n",
      "0.301365375876\n",
      "[0.55555555555555558, 0.22222222222222221, 0.22222222222222221, 0.37229437229437223]\n",
      "Average\n",
      "0.343073593074\n",
      "STDEV\n",
      "0.137124529162\n",
      "[0.73809523809523803, 0.89177489177489178, 0.89177489177489178, 0.37229437229437223]\n",
      "Average\n",
      "0.723484848485\n",
      "STDEV\n",
      "0.212244723958\n",
      "[0.55555555555555558, 0.45887445887445882, 0.45887445887445882, 0.44444444444444442]\n",
      "Average\n",
      "0.479437229437\n",
      "STDEV\n",
      "0.0443400204078\n",
      "[0.89177489177489178, 0.67532467532467533, 0.89177489177489178, 0.53333333333333333]\n",
      "Average\n",
      "0.748051948052\n",
      "STDEV\n",
      "0.152238225168\n"
     ]
    },
    {
     "name": "stderr",
     "output_type": "stream",
     "text": [
      "/Users/sbroome/miniconda2/lib/python2.7/site-packages/sklearn/metrics/classification.py:1113: UndefinedMetricWarning: F-score is ill-defined and being set to 0.0 in labels with no predicted samples.\n",
      "  'precision', 'predicted', average, warn_for)\n"
     ]
    }
   ],
   "source": [
    "horse_fscores = []\n",
    "averages = []\n",
    "for h in range(0,6):\n",
    "    ar = per_horse_ys[h]\n",
    "    f_scores = []\n",
    "    y_true = ar[:,0]\n",
    "    for v in range(1,5):\n",
    "        y_pred = ar[:,v]\n",
    "        fscore = f1_score(y_true, y_pred, average='weighted')\n",
    "        f_scores.append(fscore)\n",
    "    print f_scores\n",
    "    print 'Average'\n",
    "    av = np.average(f_scores)\n",
    "    print av\n",
    "    print 'STDEV'\n",
    "    std = np.std(f_scores)\n",
    "    print std\n",
    "    averages.append(av)\n",
    "    horse_fscores.append(f_scores)\n",
    "\n"
   ]
  },
  {
   "cell_type": "code",
   "execution_count": 36,
   "metadata": {},
   "outputs": [
    {
     "name": "stdout",
     "output_type": "stream",
     "text": [
      "0.611496489621\n",
      "0.151200417652\n"
     ]
    }
   ],
   "source": [
    "total_av = np.average(np.asarray(averages))\n",
    "print(total_av)\n",
    "\n",
    "total_std = np.std(np.asarray(averages))\n",
    "print(total_std)"
   ]
  },
  {
   "cell_type": "code",
   "execution_count": 34,
   "metadata": {},
   "outputs": [
    {
     "data": {
      "text/plain": [
       "array([[ 0.66666667,  0.82857143,  0.625     ,  0.82857143],\n",
       "       [ 1.        ,  0.73809524,  0.64615385,  0.16666667],\n",
       "       [ 0.55555556,  0.22222222,  0.22222222,  0.37229437],\n",
       "       [ 0.73809524,  0.89177489,  0.89177489,  0.37229437],\n",
       "       [ 0.55555556,  0.45887446,  0.45887446,  0.44444444],\n",
       "       [ 0.89177489,  0.67532468,  0.89177489,  0.53333333]])"
      ]
     },
     "execution_count": 34,
     "metadata": {},
     "output_type": "execute_result"
    }
   ],
   "source": [
    "np.asarray(horse_fscores)"
   ]
  },
  {
   "cell_type": "code",
   "execution_count": 35,
   "metadata": {},
   "outputs": [
    {
     "data": {
      "text/plain": [
       "array([[ 0.66666667,  0.83333333,  0.66666667,  0.83333333],\n",
       "       [ 1.        ,  0.77777778,  0.66666667,  0.33333333],\n",
       "       [ 0.55555556,  0.22222222,  0.22222222,  0.44444444],\n",
       "       [ 0.77777778,  0.88888889,  0.88888889,  0.44444444],\n",
       "       [ 0.55555556,  0.44444444,  0.44444444,  0.44444444],\n",
       "       [ 0.88888889,  0.66666667,  0.88888889,  0.55555556]])"
      ]
     },
     "execution_count": 35,
     "metadata": {},
     "output_type": "execute_result"
    }
   ],
   "source": [
    "scores_as_array"
   ]
  },
  {
   "cell_type": "code",
   "execution_count": null,
   "metadata": {
    "collapsed": true
   },
   "outputs": [],
   "source": []
  }
 ],
 "metadata": {
  "kernelspec": {
   "display_name": "Python 2",
   "language": "python",
   "name": "python2"
  },
  "language_info": {
   "codemirror_mode": {
    "name": "ipython",
    "version": 2
   },
   "file_extension": ".py",
   "mimetype": "text/x-python",
   "name": "python",
   "nbconvert_exporter": "python",
   "pygments_lexer": "ipython2",
   "version": "2.7.13"
  }
 },
 "nbformat": 4,
 "nbformat_minor": 2
}
