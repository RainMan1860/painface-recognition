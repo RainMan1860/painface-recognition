{
 "cells": [
  {
   "cell_type": "markdown",
   "metadata": {},
   "source": [
    "## Human Expert Baseline"
   ]
  },
  {
   "cell_type": "code",
   "execution_count": 1,
   "metadata": {
    "collapsed": true
   },
   "outputs": [],
   "source": [
    "import pandas as pd"
   ]
  },
  {
   "cell_type": "code",
   "execution_count": 2,
   "metadata": {},
   "outputs": [
    {
     "data": {
      "text/html": [
       "<div>\n",
       "<style>\n",
       "    .dataframe thead tr:only-child th {\n",
       "        text-align: right;\n",
       "    }\n",
       "\n",
       "    .dataframe thead th {\n",
       "        text-align: left;\n",
       "    }\n",
       "\n",
       "    .dataframe tbody tr th {\n",
       "        vertical-align: top;\n",
       "    }\n",
       "</style>\n",
       "<table border=\"1\" class=\"dataframe\">\n",
       "  <thead>\n",
       "    <tr style=\"text-align: right;\">\n",
       "      <th></th>\n",
       "      <th>Subject</th>\n",
       "      <th>Code</th>\n",
       "      <th>Pain</th>\n",
       "      <th>CASPER</th>\n",
       "      <th>PHA</th>\n",
       "      <th>KBG</th>\n",
       "      <th>KA</th>\n",
       "    </tr>\n",
       "  </thead>\n",
       "  <tbody>\n",
       "    <tr>\n",
       "      <th>0</th>\n",
       "      <td>4</td>\n",
       "      <td>152</td>\n",
       "      <td>1</td>\n",
       "      <td>1.0</td>\n",
       "      <td>1.0</td>\n",
       "      <td>1.0</td>\n",
       "      <td>0.0</td>\n",
       "    </tr>\n",
       "    <tr>\n",
       "      <th>1</th>\n",
       "      <td>2</td>\n",
       "      <td>177</td>\n",
       "      <td>0</td>\n",
       "      <td>0.0</td>\n",
       "      <td>1.0</td>\n",
       "      <td>1.0</td>\n",
       "      <td>0.0</td>\n",
       "    </tr>\n",
       "    <tr>\n",
       "      <th>2</th>\n",
       "      <td>3</td>\n",
       "      <td>179</td>\n",
       "      <td>0</td>\n",
       "      <td>0.0</td>\n",
       "      <td>0.0</td>\n",
       "      <td>0.0</td>\n",
       "      <td>1.0</td>\n",
       "    </tr>\n",
       "    <tr>\n",
       "      <th>3</th>\n",
       "      <td>1</td>\n",
       "      <td>197</td>\n",
       "      <td>0</td>\n",
       "      <td>0.0</td>\n",
       "      <td>1.0</td>\n",
       "      <td>0.0</td>\n",
       "      <td>1.0</td>\n",
       "    </tr>\n",
       "    <tr>\n",
       "      <th>4</th>\n",
       "      <td>4</td>\n",
       "      <td>198</td>\n",
       "      <td>0</td>\n",
       "      <td>1.0</td>\n",
       "      <td>1.0</td>\n",
       "      <td>0.0</td>\n",
       "      <td>0.0</td>\n",
       "    </tr>\n",
       "    <tr>\n",
       "      <th>5</th>\n",
       "      <td>2</td>\n",
       "      <td>217</td>\n",
       "      <td>0</td>\n",
       "      <td>0.0</td>\n",
       "      <td>0.0</td>\n",
       "      <td>NaN</td>\n",
       "      <td>0.0</td>\n",
       "    </tr>\n",
       "    <tr>\n",
       "      <th>6</th>\n",
       "      <td>2</td>\n",
       "      <td>257</td>\n",
       "      <td>0</td>\n",
       "      <td>1.0</td>\n",
       "      <td>NaN</td>\n",
       "      <td>1.0</td>\n",
       "      <td>0.0</td>\n",
       "    </tr>\n",
       "    <tr>\n",
       "      <th>7</th>\n",
       "      <td>1</td>\n",
       "      <td>262</td>\n",
       "      <td>0</td>\n",
       "      <td>1.0</td>\n",
       "      <td>1.0</td>\n",
       "      <td>1.0</td>\n",
       "      <td>1.0</td>\n",
       "    </tr>\n",
       "    <tr>\n",
       "      <th>8</th>\n",
       "      <td>3</td>\n",
       "      <td>266</td>\n",
       "      <td>1</td>\n",
       "      <td>NaN</td>\n",
       "      <td>1.0</td>\n",
       "      <td>NaN</td>\n",
       "      <td>0.0</td>\n",
       "    </tr>\n",
       "    <tr>\n",
       "      <th>9</th>\n",
       "      <td>3</td>\n",
       "      <td>287</td>\n",
       "      <td>0</td>\n",
       "      <td>1.0</td>\n",
       "      <td>0.0</td>\n",
       "      <td>0.0</td>\n",
       "      <td>0.0</td>\n",
       "    </tr>\n",
       "    <tr>\n",
       "      <th>10</th>\n",
       "      <td>6</td>\n",
       "      <td>291</td>\n",
       "      <td>0</td>\n",
       "      <td>1.0</td>\n",
       "      <td>0.0</td>\n",
       "      <td>1.0</td>\n",
       "      <td>0.0</td>\n",
       "    </tr>\n",
       "    <tr>\n",
       "      <th>11</th>\n",
       "      <td>1</td>\n",
       "      <td>341</td>\n",
       "      <td>1</td>\n",
       "      <td>1.0</td>\n",
       "      <td>0.0</td>\n",
       "      <td>1.0</td>\n",
       "      <td>1.0</td>\n",
       "    </tr>\n",
       "    <tr>\n",
       "      <th>12</th>\n",
       "      <td>1</td>\n",
       "      <td>342</td>\n",
       "      <td>1</td>\n",
       "      <td>0.0</td>\n",
       "      <td>0.0</td>\n",
       "      <td>0.0</td>\n",
       "      <td>0.0</td>\n",
       "    </tr>\n",
       "    <tr>\n",
       "      <th>13</th>\n",
       "      <td>6</td>\n",
       "      <td>343</td>\n",
       "      <td>1</td>\n",
       "      <td>0.0</td>\n",
       "      <td>1.0</td>\n",
       "      <td>1.0</td>\n",
       "      <td>0.0</td>\n",
       "    </tr>\n",
       "    <tr>\n",
       "      <th>14</th>\n",
       "      <td>4</td>\n",
       "      <td>347</td>\n",
       "      <td>0</td>\n",
       "      <td>1.0</td>\n",
       "      <td>1.0</td>\n",
       "      <td>1.0</td>\n",
       "      <td>0.0</td>\n",
       "    </tr>\n",
       "    <tr>\n",
       "      <th>15</th>\n",
       "      <td>4</td>\n",
       "      <td>354</td>\n",
       "      <td>1</td>\n",
       "      <td>1.0</td>\n",
       "      <td>NaN</td>\n",
       "      <td>1.0</td>\n",
       "      <td>1.0</td>\n",
       "    </tr>\n",
       "    <tr>\n",
       "      <th>16</th>\n",
       "      <td>5</td>\n",
       "      <td>355</td>\n",
       "      <td>1</td>\n",
       "      <td>1.0</td>\n",
       "      <td>1.0</td>\n",
       "      <td>1.0</td>\n",
       "      <td>0.0</td>\n",
       "    </tr>\n",
       "    <tr>\n",
       "      <th>17</th>\n",
       "      <td>5</td>\n",
       "      <td>361</td>\n",
       "      <td>0</td>\n",
       "      <td>1.0</td>\n",
       "      <td>1.0</td>\n",
       "      <td>0.0</td>\n",
       "      <td>1.0</td>\n",
       "    </tr>\n",
       "    <tr>\n",
       "      <th>18</th>\n",
       "      <td>5</td>\n",
       "      <td>365</td>\n",
       "      <td>0</td>\n",
       "      <td>0.0</td>\n",
       "      <td>1.0</td>\n",
       "      <td>1.0</td>\n",
       "      <td>0.0</td>\n",
       "    </tr>\n",
       "    <tr>\n",
       "      <th>19</th>\n",
       "      <td>6</td>\n",
       "      <td>368</td>\n",
       "      <td>1</td>\n",
       "      <td>1.0</td>\n",
       "      <td>NaN</td>\n",
       "      <td>1.0</td>\n",
       "      <td>0.0</td>\n",
       "    </tr>\n",
       "    <tr>\n",
       "      <th>20</th>\n",
       "      <td>1</td>\n",
       "      <td>379</td>\n",
       "      <td>1</td>\n",
       "      <td>0.0</td>\n",
       "      <td>NaN</td>\n",
       "      <td>1.0</td>\n",
       "      <td>NaN</td>\n",
       "    </tr>\n",
       "    <tr>\n",
       "      <th>21</th>\n",
       "      <td>5</td>\n",
       "      <td>428</td>\n",
       "      <td>1</td>\n",
       "      <td>1.0</td>\n",
       "      <td>0.0</td>\n",
       "      <td>0.0</td>\n",
       "      <td>1.0</td>\n",
       "    </tr>\n",
       "    <tr>\n",
       "      <th>22</th>\n",
       "      <td>2</td>\n",
       "      <td>432</td>\n",
       "      <td>1</td>\n",
       "      <td>1.0</td>\n",
       "      <td>1.0</td>\n",
       "      <td>1.0</td>\n",
       "      <td>1.0</td>\n",
       "    </tr>\n",
       "    <tr>\n",
       "      <th>23</th>\n",
       "      <td>5</td>\n",
       "      <td>461</td>\n",
       "      <td>1</td>\n",
       "      <td>1.0</td>\n",
       "      <td>1.0</td>\n",
       "      <td>1.0</td>\n",
       "      <td>1.0</td>\n",
       "    </tr>\n",
       "    <tr>\n",
       "      <th>24</th>\n",
       "      <td>3</td>\n",
       "      <td>465</td>\n",
       "      <td>0</td>\n",
       "      <td>0.0</td>\n",
       "      <td>0.0</td>\n",
       "      <td>NaN</td>\n",
       "      <td>0.0</td>\n",
       "    </tr>\n",
       "    <tr>\n",
       "      <th>25</th>\n",
       "      <td>3</td>\n",
       "      <td>495</td>\n",
       "      <td>1</td>\n",
       "      <td>1.0</td>\n",
       "      <td>1.0</td>\n",
       "      <td>1.0</td>\n",
       "      <td>1.0</td>\n",
       "    </tr>\n",
       "    <tr>\n",
       "      <th>26</th>\n",
       "      <td>4</td>\n",
       "      <td>518</td>\n",
       "      <td>0</td>\n",
       "      <td>1.0</td>\n",
       "      <td>0.0</td>\n",
       "      <td>0.0</td>\n",
       "      <td>0.0</td>\n",
       "    </tr>\n",
       "    <tr>\n",
       "      <th>27</th>\n",
       "      <td>2</td>\n",
       "      <td>563</td>\n",
       "      <td>1</td>\n",
       "      <td>0.0</td>\n",
       "      <td>0.0</td>\n",
       "      <td>1.0</td>\n",
       "      <td>0.0</td>\n",
       "    </tr>\n",
       "    <tr>\n",
       "      <th>28</th>\n",
       "      <td>4</td>\n",
       "      <td>580</td>\n",
       "      <td>0</td>\n",
       "      <td>NaN</td>\n",
       "      <td>NaN</td>\n",
       "      <td>NaN</td>\n",
       "      <td>NaN</td>\n",
       "    </tr>\n",
       "    <tr>\n",
       "      <th>29</th>\n",
       "      <td>1</td>\n",
       "      <td>587</td>\n",
       "      <td>1</td>\n",
       "      <td>1.0</td>\n",
       "      <td>NaN</td>\n",
       "      <td>1.0</td>\n",
       "      <td>0.0</td>\n",
       "    </tr>\n",
       "    <tr>\n",
       "      <th>30</th>\n",
       "      <td>1</td>\n",
       "      <td>592</td>\n",
       "      <td>1</td>\n",
       "      <td>NaN</td>\n",
       "      <td>NaN</td>\n",
       "      <td>1.0</td>\n",
       "      <td>0.0</td>\n",
       "    </tr>\n",
       "    <tr>\n",
       "      <th>31</th>\n",
       "      <td>2</td>\n",
       "      <td>601</td>\n",
       "      <td>1</td>\n",
       "      <td>1.0</td>\n",
       "      <td>1.0</td>\n",
       "      <td>1.0</td>\n",
       "      <td>0.0</td>\n",
       "    </tr>\n",
       "    <tr>\n",
       "      <th>32</th>\n",
       "      <td>4</td>\n",
       "      <td>603</td>\n",
       "      <td>0</td>\n",
       "      <td>0.0</td>\n",
       "      <td>0.0</td>\n",
       "      <td>0.0</td>\n",
       "      <td>NaN</td>\n",
       "    </tr>\n",
       "    <tr>\n",
       "      <th>33</th>\n",
       "      <td>5</td>\n",
       "      <td>613</td>\n",
       "      <td>1</td>\n",
       "      <td>1.0</td>\n",
       "      <td>0.0</td>\n",
       "      <td>1.0</td>\n",
       "      <td>0.0</td>\n",
       "    </tr>\n",
       "    <tr>\n",
       "      <th>34</th>\n",
       "      <td>6</td>\n",
       "      <td>640</td>\n",
       "      <td>1</td>\n",
       "      <td>1.0</td>\n",
       "      <td>1.0</td>\n",
       "      <td>1.0</td>\n",
       "      <td>0.0</td>\n",
       "    </tr>\n",
       "    <tr>\n",
       "      <th>35</th>\n",
       "      <td>2</td>\n",
       "      <td>668</td>\n",
       "      <td>1</td>\n",
       "      <td>0.0</td>\n",
       "      <td>0.0</td>\n",
       "      <td>1.0</td>\n",
       "      <td>0.0</td>\n",
       "    </tr>\n",
       "    <tr>\n",
       "      <th>36</th>\n",
       "      <td>1</td>\n",
       "      <td>680</td>\n",
       "      <td>0</td>\n",
       "      <td>0.0</td>\n",
       "      <td>0.0</td>\n",
       "      <td>0.0</td>\n",
       "      <td>1.0</td>\n",
       "    </tr>\n",
       "    <tr>\n",
       "      <th>37</th>\n",
       "      <td>1</td>\n",
       "      <td>713</td>\n",
       "      <td>0</td>\n",
       "      <td>1.0</td>\n",
       "      <td>1.0</td>\n",
       "      <td>1.0</td>\n",
       "      <td>1.0</td>\n",
       "    </tr>\n",
       "    <tr>\n",
       "      <th>38</th>\n",
       "      <td>2</td>\n",
       "      <td>717</td>\n",
       "      <td>0</td>\n",
       "      <td>1.0</td>\n",
       "      <td>1.0</td>\n",
       "      <td>1.0</td>\n",
       "      <td>0.0</td>\n",
       "    </tr>\n",
       "    <tr>\n",
       "      <th>39</th>\n",
       "      <td>3</td>\n",
       "      <td>745</td>\n",
       "      <td>1</td>\n",
       "      <td>NaN</td>\n",
       "      <td>NaN</td>\n",
       "      <td>1.0</td>\n",
       "      <td>NaN</td>\n",
       "    </tr>\n",
       "    <tr>\n",
       "      <th>40</th>\n",
       "      <td>1</td>\n",
       "      <td>749</td>\n",
       "      <td>0</td>\n",
       "      <td>1.0</td>\n",
       "      <td>0.0</td>\n",
       "      <td>0.0</td>\n",
       "      <td>1.0</td>\n",
       "    </tr>\n",
       "    <tr>\n",
       "      <th>41</th>\n",
       "      <td>5</td>\n",
       "      <td>778</td>\n",
       "      <td>0</td>\n",
       "      <td>0.0</td>\n",
       "      <td>1.0</td>\n",
       "      <td>0.0</td>\n",
       "      <td>0.0</td>\n",
       "    </tr>\n",
       "    <tr>\n",
       "      <th>42</th>\n",
       "      <td>5</td>\n",
       "      <td>815</td>\n",
       "      <td>1</td>\n",
       "      <td>0.0</td>\n",
       "      <td>0.0</td>\n",
       "      <td>1.0</td>\n",
       "      <td>0.0</td>\n",
       "    </tr>\n",
       "    <tr>\n",
       "      <th>43</th>\n",
       "      <td>6</td>\n",
       "      <td>826</td>\n",
       "      <td>0</td>\n",
       "      <td>NaN</td>\n",
       "      <td>NaN</td>\n",
       "      <td>NaN</td>\n",
       "      <td>0.0</td>\n",
       "    </tr>\n",
       "    <tr>\n",
       "      <th>44</th>\n",
       "      <td>1</td>\n",
       "      <td>829</td>\n",
       "      <td>0</td>\n",
       "      <td>1.0</td>\n",
       "      <td>1.0</td>\n",
       "      <td>1.0</td>\n",
       "      <td>1.0</td>\n",
       "    </tr>\n",
       "    <tr>\n",
       "      <th>45</th>\n",
       "      <td>4</td>\n",
       "      <td>861</td>\n",
       "      <td>0</td>\n",
       "      <td>0.0</td>\n",
       "      <td>0.0</td>\n",
       "      <td>1.0</td>\n",
       "      <td>1.0</td>\n",
       "    </tr>\n",
       "    <tr>\n",
       "      <th>46</th>\n",
       "      <td>3</td>\n",
       "      <td>876</td>\n",
       "      <td>1</td>\n",
       "      <td>1.0</td>\n",
       "      <td>1.0</td>\n",
       "      <td>1.0</td>\n",
       "      <td>NaN</td>\n",
       "    </tr>\n",
       "    <tr>\n",
       "      <th>47</th>\n",
       "      <td>2</td>\n",
       "      <td>887</td>\n",
       "      <td>1</td>\n",
       "      <td>1.0</td>\n",
       "      <td>1.0</td>\n",
       "      <td>1.0</td>\n",
       "      <td>0.0</td>\n",
       "    </tr>\n",
       "    <tr>\n",
       "      <th>48</th>\n",
       "      <td>5</td>\n",
       "      <td>925</td>\n",
       "      <td>0</td>\n",
       "      <td>1.0</td>\n",
       "      <td>0.0</td>\n",
       "      <td>0.0</td>\n",
       "      <td>0.0</td>\n",
       "    </tr>\n",
       "    <tr>\n",
       "      <th>49</th>\n",
       "      <td>1</td>\n",
       "      <td>950</td>\n",
       "      <td>1</td>\n",
       "      <td>NaN</td>\n",
       "      <td>NaN</td>\n",
       "      <td>NaN</td>\n",
       "      <td>NaN</td>\n",
       "    </tr>\n",
       "    <tr>\n",
       "      <th>50</th>\n",
       "      <td>3</td>\n",
       "      <td>954</td>\n",
       "      <td>0</td>\n",
       "      <td>1.0</td>\n",
       "      <td>0.0</td>\n",
       "      <td>0.0</td>\n",
       "      <td>0.0</td>\n",
       "    </tr>\n",
       "  </tbody>\n",
       "</table>\n",
       "</div>"
      ],
      "text/plain": [
       "    Subject  Code  Pain  CASPER  PHA  KBG   KA\n",
       "0         4   152     1     1.0  1.0  1.0  0.0\n",
       "1         2   177     0     0.0  1.0  1.0  0.0\n",
       "2         3   179     0     0.0  0.0  0.0  1.0\n",
       "3         1   197     0     0.0  1.0  0.0  1.0\n",
       "4         4   198     0     1.0  1.0  0.0  0.0\n",
       "5         2   217     0     0.0  0.0  NaN  0.0\n",
       "6         2   257     0     1.0  NaN  1.0  0.0\n",
       "7         1   262     0     1.0  1.0  1.0  1.0\n",
       "8         3   266     1     NaN  1.0  NaN  0.0\n",
       "9         3   287     0     1.0  0.0  0.0  0.0\n",
       "10        6   291     0     1.0  0.0  1.0  0.0\n",
       "11        1   341     1     1.0  0.0  1.0  1.0\n",
       "12        1   342     1     0.0  0.0  0.0  0.0\n",
       "13        6   343     1     0.0  1.0  1.0  0.0\n",
       "14        4   347     0     1.0  1.0  1.0  0.0\n",
       "15        4   354     1     1.0  NaN  1.0  1.0\n",
       "16        5   355     1     1.0  1.0  1.0  0.0\n",
       "17        5   361     0     1.0  1.0  0.0  1.0\n",
       "18        5   365     0     0.0  1.0  1.0  0.0\n",
       "19        6   368     1     1.0  NaN  1.0  0.0\n",
       "20        1   379     1     0.0  NaN  1.0  NaN\n",
       "21        5   428     1     1.0  0.0  0.0  1.0\n",
       "22        2   432     1     1.0  1.0  1.0  1.0\n",
       "23        5   461     1     1.0  1.0  1.0  1.0\n",
       "24        3   465     0     0.0  0.0  NaN  0.0\n",
       "25        3   495     1     1.0  1.0  1.0  1.0\n",
       "26        4   518     0     1.0  0.0  0.0  0.0\n",
       "27        2   563     1     0.0  0.0  1.0  0.0\n",
       "28        4   580     0     NaN  NaN  NaN  NaN\n",
       "29        1   587     1     1.0  NaN  1.0  0.0\n",
       "30        1   592     1     NaN  NaN  1.0  0.0\n",
       "31        2   601     1     1.0  1.0  1.0  0.0\n",
       "32        4   603     0     0.0  0.0  0.0  NaN\n",
       "33        5   613     1     1.0  0.0  1.0  0.0\n",
       "34        6   640     1     1.0  1.0  1.0  0.0\n",
       "35        2   668     1     0.0  0.0  1.0  0.0\n",
       "36        1   680     0     0.0  0.0  0.0  1.0\n",
       "37        1   713     0     1.0  1.0  1.0  1.0\n",
       "38        2   717     0     1.0  1.0  1.0  0.0\n",
       "39        3   745     1     NaN  NaN  1.0  NaN\n",
       "40        1   749     0     1.0  0.0  0.0  1.0\n",
       "41        5   778     0     0.0  1.0  0.0  0.0\n",
       "42        5   815     1     0.0  0.0  1.0  0.0\n",
       "43        6   826     0     NaN  NaN  NaN  0.0\n",
       "44        1   829     0     1.0  1.0  1.0  1.0\n",
       "45        4   861     0     0.0  0.0  1.0  1.0\n",
       "46        3   876     1     1.0  1.0  1.0  NaN\n",
       "47        2   887     1     1.0  1.0  1.0  0.0\n",
       "48        5   925     0     1.0  0.0  0.0  0.0\n",
       "49        1   950     1     NaN  NaN  NaN  NaN\n",
       "50        3   954     0     1.0  0.0  0.0  0.0"
      ]
     },
     "execution_count": 2,
     "metadata": {},
     "output_type": "execute_result"
    }
   ],
   "source": [
    "df = pd.read_csv('data/random_sequences/ratings.csv', sep=';')\n",
    "df"
   ]
  },
  {
   "cell_type": "code",
   "execution_count": 31,
   "metadata": {},
   "outputs": [
    {
     "name": "stdout",
     "output_type": "stream",
     "text": [
      "    Subject  Pain  CASPER  PHA  KBG   KA\n",
      "3         1     0     0.0  1.0  0.0  1.0\n",
      "7         1     0     1.0  1.0  1.0  1.0\n",
      "11        1     1     1.0  0.0  1.0  1.0\n",
      "12        1     1     0.0  0.0  0.0  0.0\n",
      "20        1     1     0.0  NaN  1.0  NaN\n",
      "29        1     1     1.0  NaN  1.0  0.0\n",
      "30        1     1     NaN  NaN  1.0  0.0\n",
      "36        1     0     0.0  0.0  0.0  1.0\n",
      "37        1     0     1.0  1.0  1.0  1.0\n",
      "40        1     0     1.0  0.0  0.0  1.0\n",
      "44        1     0     1.0  1.0  1.0  1.0\n",
      "49        1     1     NaN  NaN  NaN  NaN\n",
      "    Subject  Pain  CASPER  PHA  KBG   KA\n",
      "1         2     0     0.0  1.0  1.0  0.0\n",
      "5         2     0     0.0  0.0  NaN  0.0\n",
      "6         2     0     1.0  NaN  1.0  0.0\n",
      "22        2     1     1.0  1.0  1.0  1.0\n",
      "27        2     1     0.0  0.0  1.0  0.0\n",
      "31        2     1     1.0  1.0  1.0  0.0\n",
      "35        2     1     0.0  0.0  1.0  0.0\n",
      "38        2     0     1.0  1.0  1.0  0.0\n",
      "47        2     1     1.0  1.0  1.0  0.0\n",
      "    Subject  Pain  CASPER  PHA  KBG   KA\n",
      "2         3     0     0.0  0.0  0.0  1.0\n",
      "8         3     1     NaN  1.0  NaN  0.0\n",
      "9         3     0     1.0  0.0  0.0  0.0\n",
      "24        3     0     0.0  0.0  NaN  0.0\n",
      "25        3     1     1.0  1.0  1.0  1.0\n",
      "39        3     1     NaN  NaN  1.0  NaN\n",
      "46        3     1     1.0  1.0  1.0  NaN\n",
      "50        3     0     1.0  0.0  0.0  0.0\n",
      "    Subject  Pain  CASPER  PHA  KBG   KA\n",
      "0         4     1     1.0  1.0  1.0  0.0\n",
      "4         4     0     1.0  1.0  0.0  0.0\n",
      "14        4     0     1.0  1.0  1.0  0.0\n",
      "15        4     1     1.0  NaN  1.0  1.0\n",
      "26        4     0     1.0  0.0  0.0  0.0\n",
      "28        4     0     NaN  NaN  NaN  NaN\n",
      "32        4     0     0.0  0.0  0.0  NaN\n",
      "45        4     0     0.0  0.0  1.0  1.0\n",
      "    Subject  Pain  CASPER  PHA  KBG   KA\n",
      "16        5     1     1.0  1.0  1.0  0.0\n",
      "17        5     0     1.0  1.0  0.0  1.0\n",
      "18        5     0     0.0  1.0  1.0  0.0\n",
      "21        5     1     1.0  0.0  0.0  1.0\n",
      "23        5     1     1.0  1.0  1.0  1.0\n",
      "33        5     1     1.0  0.0  1.0  0.0\n",
      "41        5     0     0.0  1.0  0.0  0.0\n",
      "42        5     1     0.0  0.0  1.0  0.0\n",
      "48        5     0     1.0  0.0  0.0  0.0\n",
      "    Subject  Pain  CASPER  PHA  KBG   KA\n",
      "10        6     0     1.0  0.0  1.0  0.0\n",
      "13        6     1     0.0  1.0  1.0  0.0\n",
      "19        6     1     1.0  NaN  1.0  0.0\n",
      "34        6     1     1.0  1.0  1.0  0.0\n",
      "43        6     0     NaN  NaN  NaN  0.0\n"
     ]
    }
   ],
   "source": [
    "per_horse_dfs = []\n",
    "for i in range(1,7):\n",
    "    hdf = df.loc[(df['Subject']==i), ('Subject','Pain', 'CASPER', 'PHA', 'KBG', 'KA') ]\n",
    "    print(hdf)\n",
    "    per_horse_dfs.append(hdf)"
   ]
  },
  {
   "cell_type": "code",
   "execution_count": 32,
   "metadata": {
    "collapsed": true
   },
   "outputs": [],
   "source": [
    "vets = ['CASPER', 'PHA', 'KBG', 'KA']"
   ]
  },
  {
   "cell_type": "code",
   "execution_count": 33,
   "metadata": {
    "collapsed": true
   },
   "outputs": [],
   "source": [
    "import numpy as np"
   ]
  },
  {
   "cell_type": "code",
   "execution_count": 34,
   "metadata": {},
   "outputs": [
    {
     "data": {
      "text/plain": [
       "6"
      ]
     },
     "execution_count": 34,
     "metadata": {},
     "output_type": "execute_result"
    }
   ],
   "source": [
    "len(per_horse_dfs)"
   ]
  },
  {
   "cell_type": "code",
   "execution_count": 35,
   "metadata": {},
   "outputs": [
    {
     "data": {
      "text/plain": [
       "[(12, 4), (9, 4), (8, 4), (8, 4), (9, 4), (5, 4)]"
      ]
     },
     "execution_count": 35,
     "metadata": {},
     "output_type": "execute_result"
    }
   ],
   "source": [
    "per_horse_score_arrays = []\n",
    "for i, hdf in enumerate(per_horse_dfs):\n",
    "    nb_samples = len(hdf)\n",
    "    #print(nb_samples)\n",
    "    score_array = np.zeros((nb_samples, len(vets)))\n",
    "    for v, vet in enumerate(vets):\n",
    "        #print('v', v)\n",
    "        #print('vet', vet)\n",
    "        ind = 0\n",
    "        for index, row in hdf.iterrows():\n",
    "            #print('ind', ind)\n",
    "            #print('row', row['JW'])\n",
    "            #print('PNP', row['Pain/no pain'])\n",
    "            #print('vet row', row['PHA'])\n",
    "            if row['Pain'] == row[vet]:\n",
    "                score_array[ind, v] = 1\n",
    "            else:\n",
    "                score_array[ind, v] = 0\n",
    "            ind += 1\n",
    "    #print(score_array)\n",
    "    per_horse_score_arrays.append(score_array)\n",
    "\n",
    "\n",
    "[x.shape for x in per_horse_score_arrays]\n",
    "                "
   ]
  },
  {
   "cell_type": "code",
   "execution_count": 36,
   "metadata": {},
   "outputs": [
    {
     "data": {
      "text/plain": [
       "[array([[ 1.,  0.,  1.,  0.],\n",
       "        [ 0.,  0.,  0.,  0.],\n",
       "        [ 1.,  0.,  1.,  1.],\n",
       "        [ 0.,  0.,  0.,  0.],\n",
       "        [ 0.,  0.,  1.,  0.],\n",
       "        [ 1.,  0.,  1.,  0.],\n",
       "        [ 0.,  0.,  1.,  0.],\n",
       "        [ 1.,  1.,  1.,  0.],\n",
       "        [ 0.,  0.,  0.,  0.],\n",
       "        [ 0.,  1.,  1.,  0.],\n",
       "        [ 0.,  0.,  0.,  0.],\n",
       "        [ 0.,  0.,  0.,  0.]]), array([[ 1.,  0.,  0.,  1.],\n",
       "        [ 1.,  1.,  0.,  1.],\n",
       "        [ 0.,  0.,  0.,  1.],\n",
       "        [ 1.,  1.,  1.,  1.],\n",
       "        [ 0.,  0.,  1.,  0.],\n",
       "        [ 1.,  1.,  1.,  0.],\n",
       "        [ 0.,  0.,  1.,  0.],\n",
       "        [ 0.,  0.,  0.,  1.],\n",
       "        [ 1.,  1.,  1.,  0.]]), array([[ 1.,  1.,  1.,  0.],\n",
       "        [ 0.,  1.,  0.,  0.],\n",
       "        [ 0.,  1.,  1.,  1.],\n",
       "        [ 1.,  1.,  0.,  1.],\n",
       "        [ 1.,  1.,  1.,  1.],\n",
       "        [ 0.,  0.,  1.,  0.],\n",
       "        [ 1.,  1.,  1.,  0.],\n",
       "        [ 0.,  1.,  1.,  1.]]), array([[ 1.,  1.,  1.,  0.],\n",
       "        [ 0.,  0.,  1.,  1.],\n",
       "        [ 0.,  0.,  0.,  1.],\n",
       "        [ 1.,  0.,  1.,  1.],\n",
       "        [ 0.,  1.,  1.,  1.],\n",
       "        [ 0.,  0.,  0.,  0.],\n",
       "        [ 1.,  1.,  1.,  0.],\n",
       "        [ 1.,  1.,  0.,  0.]]), array([[ 1.,  1.,  1.,  0.],\n",
       "        [ 0.,  0.,  1.,  0.],\n",
       "        [ 1.,  0.,  0.,  1.],\n",
       "        [ 1.,  0.,  0.,  1.],\n",
       "        [ 1.,  1.,  1.,  1.],\n",
       "        [ 1.,  0.,  1.,  0.],\n",
       "        [ 1.,  0.,  1.,  1.],\n",
       "        [ 0.,  0.,  1.,  0.],\n",
       "        [ 0.,  1.,  1.,  1.]]), array([[ 0.,  1.,  0.,  1.],\n",
       "        [ 0.,  1.,  1.,  0.],\n",
       "        [ 1.,  0.,  1.,  0.],\n",
       "        [ 1.,  1.,  1.,  0.],\n",
       "        [ 0.,  0.,  0.,  1.]])]"
      ]
     },
     "execution_count": 36,
     "metadata": {},
     "output_type": "execute_result"
    }
   ],
   "source": [
    "per_horse_score_arrays"
   ]
  },
  {
   "cell_type": "code",
   "execution_count": 37,
   "metadata": {
    "collapsed": true
   },
   "outputs": [],
   "source": [
    "def get_score(score_array, vet_ind):\n",
    "    nb_correct = np.sum(score_array[:, vet_ind])\n",
    "    #print(nb_correct)\n",
    "    nb_samples = score_array.shape[0]\n",
    "    #print(nb_samples)\n",
    "    score = nb_correct / nb_samples\n",
    "    #print('score ', score)\n",
    "    return score"
   ]
  },
  {
   "cell_type": "code",
   "execution_count": 66,
   "metadata": {},
   "outputs": [
    {
     "name": "stdout",
     "output_type": "stream",
     "text": [
      "('Average: ', 0.29166666666666669)\n",
      "('Average: ', 0.52777777777777779)\n",
      "('Average: ', 0.65625)\n",
      "('Average: ', 0.53125)\n",
      "('Average: ', 0.58333333333333326)\n",
      "('Average: ', 0.5)\n"
     ]
    }
   ],
   "source": [
    "per_horse_scores = []\n",
    "for h in range(0,6):\n",
    "    sa = per_horse_score_arrays[h]\n",
    "    #print('HORSE ', h+1)\n",
    "    scores = np.zeros(len(vets))\n",
    "    for v, vet in enumerate(vets):\n",
    "        score = get_score(sa, v)\n",
    "        #print('Score of ' + vet + ':')\n",
    "        scores[v] = score\n",
    "    #print(scores)\n",
    "    print('Average: ', np.average(scores))\n",
    "    per_horse_scores.append(scores)\n",
    "        "
   ]
  },
  {
   "cell_type": "code",
   "execution_count": 67,
   "metadata": {},
   "outputs": [
    {
     "data": {
      "text/plain": [
       "[array([ 0.33333333,  0.16666667,  0.58333333,  0.08333333]),\n",
       " array([ 0.55555556,  0.44444444,  0.55555556,  0.55555556]),\n",
       " array([ 0.5  ,  0.875,  0.75 ,  0.5  ]),\n",
       " array([ 0.5  ,  0.5  ,  0.625,  0.5  ]),\n",
       " array([ 0.66666667,  0.33333333,  0.77777778,  0.55555556]),\n",
       " array([ 0.4,  0.6,  0.6,  0.4])]"
      ]
     },
     "execution_count": 67,
     "metadata": {},
     "output_type": "execute_result"
    }
   ],
   "source": [
    "per_horse_scores"
   ]
  },
  {
   "cell_type": "code",
   "execution_count": 68,
   "metadata": {},
   "outputs": [
    {
     "name": "stdout",
     "output_type": "stream",
     "text": [
      "0.291666666667\n",
      "0.527777777778\n",
      "0.65625\n",
      "0.53125\n",
      "0.583333333333\n",
      "0.5\n"
     ]
    }
   ],
   "source": [
    "per_horse_averages = []\n",
    "for sc, scores in enumerate(per_horse_scores):\n",
    "    #print('Average for horse ', sc)\n",
    "    #print(scores)\n",
    "    av = np.average(scores)\n",
    "    print(av)\n",
    "    per_horse_averages.append(av)"
   ]
  },
  {
   "cell_type": "code",
   "execution_count": 69,
   "metadata": {},
   "outputs": [
    {
     "data": {
      "text/plain": [
       "0.51504629629629628"
      ]
     },
     "execution_count": 69,
     "metadata": {},
     "output_type": "execute_result"
    }
   ],
   "source": [
    "ultimate_average = np.average(np.asarray(per_horse_averages))\n",
    "ultimate_average"
   ]
  },
  {
   "cell_type": "code",
   "execution_count": 70,
   "metadata": {
    "collapsed": true
   },
   "outputs": [],
   "source": [
    "scores_as_array = np.asarray(per_horse_scores)"
   ]
  },
  {
   "cell_type": "code",
   "execution_count": 71,
   "metadata": {},
   "outputs": [
    {
     "data": {
      "text/plain": [
       "array([[ 0.33333333,  0.16666667,  0.58333333,  0.08333333],\n",
       "       [ 0.55555556,  0.44444444,  0.55555556,  0.55555556],\n",
       "       [ 0.5       ,  0.875     ,  0.75      ,  0.5       ],\n",
       "       [ 0.5       ,  0.5       ,  0.625     ,  0.5       ],\n",
       "       [ 0.66666667,  0.33333333,  0.77777778,  0.55555556],\n",
       "       [ 0.4       ,  0.6       ,  0.6       ,  0.4       ]])"
      ]
     },
     "execution_count": 71,
     "metadata": {},
     "output_type": "execute_result"
    }
   ],
   "source": [
    "scores_as_array"
   ]
  },
  {
   "cell_type": "code",
   "execution_count": 72,
   "metadata": {},
   "outputs": [
    {
     "name": "stdout",
     "output_type": "stream",
     "text": [
      "('Average for vet ', 'CASPER')\n",
      "0.492592592593\n",
      "('Average for vet ', 'PHA')\n",
      "0.486574074074\n",
      "('Average for vet ', 'KBG')\n",
      "0.648611111111\n",
      "('Average for vet ', 'KA')\n",
      "0.432407407407\n"
     ]
    }
   ],
   "source": [
    "for i in range(0,len(vets)):\n",
    "    print('Average for vet ', vets[i])\n",
    "    print(np.average(scores_as_array[:,i]))"
   ]
  },
  {
   "cell_type": "code",
   "execution_count": 73,
   "metadata": {
    "collapsed": true
   },
   "outputs": [],
   "source": [
    "sums = []\n",
    "for v in range(0,len(vets)):\n",
    "    sum = 0\n",
    "    for h in range(0,6):\n",
    "        nb_right = np.sum(per_horse_score_arrays[h][:,v])\n",
    "        sum += nb_right\n",
    "    sums.append(sum)"
   ]
  },
  {
   "cell_type": "markdown",
   "metadata": {},
   "source": [
    "### Correct guesses per vet"
   ]
  },
  {
   "cell_type": "code",
   "execution_count": 74,
   "metadata": {},
   "outputs": [
    {
     "data": {
      "text/plain": [
       "[25.0, 23.0, 33.0, 21.0]"
      ]
     },
     "execution_count": 74,
     "metadata": {},
     "output_type": "execute_result"
    }
   ],
   "source": [
    "sums"
   ]
  },
  {
   "cell_type": "code",
   "execution_count": 75,
   "metadata": {},
   "outputs": [
    {
     "data": {
      "text/plain": [
       "0.49019607843137253"
      ]
     },
     "execution_count": 75,
     "metadata": {},
     "output_type": "execute_result"
    }
   ],
   "source": [
    "25.0/51.0"
   ]
  },
  {
   "cell_type": "code",
   "execution_count": 76,
   "metadata": {},
   "outputs": [
    {
     "data": {
      "text/plain": [
       "0.45098039215686275"
      ]
     },
     "execution_count": 76,
     "metadata": {},
     "output_type": "execute_result"
    }
   ],
   "source": [
    "23.0/51"
   ]
  },
  {
   "cell_type": "code",
   "execution_count": 77,
   "metadata": {
    "collapsed": true
   },
   "outputs": [],
   "source": [
    "y_pnp = df['Pain'].values"
   ]
  },
  {
   "cell_type": "code",
   "execution_count": 78,
   "metadata": {
    "collapsed": true
   },
   "outputs": [],
   "source": [
    "def make_column_binary(column):\n",
    "    y = np.zeros(len(column))\n",
    "    for e, element in enumerate(column):\n",
    "        if element == 1:\n",
    "            value = 1\n",
    "        else:\n",
    "            value = 0\n",
    "        y[e] = value\n",
    "    return y"
   ]
  },
  {
   "cell_type": "code",
   "execution_count": 89,
   "metadata": {},
   "outputs": [
    {
     "name": "stdout",
     "output_type": "stream",
     "text": [
      "[ 1.  0.  0.  0.  0.  0.  0.  0.  1.  0.  0.  1.  1.  1.  0.  1.  1.  0.\n",
      "  0.  1.  1.  1.  1.  1.  0.  1.  0.  1.  0.  1.  1.  1.  0.  1.  1.  1.\n",
      "  0.  0.  0.  1.  0.  0.  1.  0.  0.  0.  1.  1.  0.  1.  0.]\n",
      "[ 1.  1.  0.  1.  1.  0.  0.  1.  1.  0.  0.  0.  0.  1.  1.  0.  1.  1.\n",
      "  1.  0.  0.  0.  1.  1.  0.  1.  0.  0.  0.  0.  0.  1.  0.  0.  1.  0.\n",
      "  0.  1.  1.  0.  0.  1.  0.  0.  1.  0.  1.  1.  0.  0.  0.]\n",
      "[ 1.  0.  0.  0.  1.  0.  1.  1.  0.  1.  1.  1.  0.  0.  1.  1.  1.  1.\n",
      "  0.  1.  0.  1.  1.  1.  0.  1.  1.  0.  0.  1.  0.  1.  0.  1.  1.  0.\n",
      "  0.  1.  1.  0.  1.  0.  0.  0.  1.  0.  1.  1.  1.  0.  1.]\n",
      "51 51 51\n"
     ]
    }
   ],
   "source": [
    "y_true = make_column_binary(df['Pain'].values.tolist())\n",
    "y_PHA = make_column_binary(df['PHA'].values)\n",
    "y_CASPER = make_column_binary(df['CASPER'].values)\n",
    "y_KBG = make_column_binary(df['KBG'].values)\n",
    "y_KA = make_column_binary(df['KA'].values)\n",
    "print(y_true)\n",
    "print(y_PHA)\n",
    "print(y_CASPER)\n",
    "print len(y_true), len(y_CASPER), len(y_PHA)"
   ]
  },
  {
   "cell_type": "code",
   "execution_count": 90,
   "metadata": {
    "collapsed": true
   },
   "outputs": [],
   "source": [
    "per_horse_ys = []\n",
    "names = ['Pain', 'CASPER', 'PHA', 'KBG', 'KA']\n",
    "for h in range(0,6):\n",
    "    hdf = per_horse_dfs[h]\n",
    "    nb_samples = len(hdf)\n",
    "    ar = np.zeros((nb_samples, 5))\n",
    "    for n in range(len(names)):\n",
    "        vs = hdf[names[n]].values.tolist()\n",
    "        y = make_column_binary(vs)\n",
    "        #print y\n",
    "        ar[:,n] = y\n",
    "    #print(ar)\n",
    "    per_horse_ys.append(ar)"
   ]
  },
  {
   "cell_type": "code",
   "execution_count": 91,
   "metadata": {
    "collapsed": true
   },
   "outputs": [],
   "source": [
    "from sklearn.metrics import classification_report, confusion_matrix, f1_score, accuracy_score"
   ]
  },
  {
   "cell_type": "code",
   "execution_count": 92,
   "metadata": {},
   "outputs": [
    {
     "name": "stdout",
     "output_type": "stream",
     "text": [
      "             precision    recall  f1-score   support\n",
      "\n",
      "        0.0       0.55      0.46      0.50        26\n",
      "        1.0       0.52      0.60      0.56        25\n",
      "\n",
      "avg / total       0.53      0.53      0.53        51\n",
      "\n",
      "             precision    recall  f1-score   support\n",
      "\n",
      "        0.0       0.52      0.58      0.55        26\n",
      "        1.0       0.50      0.44      0.47        25\n",
      "\n",
      "avg / total       0.51      0.51      0.51        51\n",
      "\n",
      "             precision    recall  f1-score   support\n",
      "\n",
      "        0.0       0.80      0.62      0.70        26\n",
      "        1.0       0.68      0.84      0.75        25\n",
      "\n",
      "avg / total       0.74      0.73      0.72        51\n",
      "\n",
      "             precision    recall  f1-score   support\n",
      "\n",
      "        0.0       0.47      0.65      0.55        26\n",
      "        1.0       0.40      0.24      0.30        25\n",
      "\n",
      "avg / total       0.44      0.45      0.43        51\n",
      "\n",
      "[[12 14]\n",
      " [10 15]]\n",
      "[[15 11]\n",
      " [14 11]]\n",
      "[[16 10]\n",
      " [ 4 21]]\n",
      "[[17  9]\n",
      " [19  6]]\n"
     ]
    }
   ],
   "source": [
    "# TOTAL F1-scores\n",
    "\n",
    "cr_CASPER = classification_report(y_true, y_CASPER)\n",
    "print(cr_CASPER)\n",
    "\n",
    "cr_PHA = classification_report(y_true, y_PHA)\n",
    "print(cr_PHA)\n",
    "\n",
    "cr_KBG = classification_report(y_true, y_KBG)\n",
    "print(cr_KBG)\n",
    "\n",
    "cr_KA = classification_report(y_true, y_KA)\n",
    "print(cr_KA)\n",
    "\n",
    "cm_CASPER = confusion_matrix(y_true, y_CASPER)\n",
    "print(cm_CASPER)\n",
    "cm_PHA = confusion_matrix(y_true, y_PHA)\n",
    "print(cm_PHA)\n",
    "cm_KBG = confusion_matrix(y_true, y_KBG)\n",
    "print(cm_KBG)\n",
    "cm_KA = confusion_matrix(y_true, y_KA)\n",
    "print(cm_KA)\n"
   ]
  },
  {
   "cell_type": "code",
   "execution_count": 97,
   "metadata": {},
   "outputs": [
    {
     "data": {
      "text/plain": [
       "[array([[ 0.,  0.,  1.,  0.,  1.],\n",
       "        [ 0.,  1.,  1.,  1.,  1.],\n",
       "        [ 1.,  1.,  0.,  1.,  1.],\n",
       "        [ 1.,  0.,  0.,  0.,  0.],\n",
       "        [ 1.,  0.,  0.,  1.,  0.],\n",
       "        [ 1.,  1.,  0.,  1.,  0.],\n",
       "        [ 1.,  0.,  0.,  1.,  0.],\n",
       "        [ 0.,  0.,  0.,  0.,  1.],\n",
       "        [ 0.,  1.,  1.,  1.,  1.],\n",
       "        [ 0.,  1.,  0.,  0.,  1.],\n",
       "        [ 0.,  1.,  1.,  1.,  1.],\n",
       "        [ 1.,  0.,  0.,  0.,  0.]]), array([[ 0.,  0.,  1.,  1.,  0.],\n",
       "        [ 0.,  0.,  0.,  0.,  0.],\n",
       "        [ 0.,  1.,  0.,  1.,  0.],\n",
       "        [ 1.,  1.,  1.,  1.,  1.],\n",
       "        [ 1.,  0.,  0.,  1.,  0.],\n",
       "        [ 1.,  1.,  1.,  1.,  0.],\n",
       "        [ 1.,  0.,  0.,  1.,  0.],\n",
       "        [ 0.,  1.,  1.,  1.,  0.],\n",
       "        [ 1.,  1.,  1.,  1.,  0.]]), array([[ 0.,  0.,  0.,  0.,  1.],\n",
       "        [ 1.,  0.,  1.,  0.,  0.],\n",
       "        [ 0.,  1.,  0.,  0.,  0.],\n",
       "        [ 0.,  0.,  0.,  0.,  0.],\n",
       "        [ 1.,  1.,  1.,  1.,  1.],\n",
       "        [ 1.,  0.,  0.,  1.,  0.],\n",
       "        [ 1.,  1.,  1.,  1.,  0.],\n",
       "        [ 0.,  1.,  0.,  0.,  0.]]), array([[ 1.,  1.,  1.,  1.,  0.],\n",
       "        [ 0.,  1.,  1.,  0.,  0.],\n",
       "        [ 0.,  1.,  1.,  1.,  0.],\n",
       "        [ 1.,  1.,  0.,  1.,  1.],\n",
       "        [ 0.,  1.,  0.,  0.,  0.],\n",
       "        [ 0.,  0.,  0.,  0.,  0.],\n",
       "        [ 0.,  0.,  0.,  0.,  0.],\n",
       "        [ 0.,  0.,  0.,  1.,  1.]]), array([[ 1.,  1.,  1.,  1.,  0.],\n",
       "        [ 0.,  1.,  1.,  0.,  1.],\n",
       "        [ 0.,  0.,  1.,  1.,  0.],\n",
       "        [ 1.,  1.,  0.,  0.,  1.],\n",
       "        [ 1.,  1.,  1.,  1.,  1.],\n",
       "        [ 1.,  1.,  0.,  1.,  0.],\n",
       "        [ 0.,  0.,  1.,  0.,  0.],\n",
       "        [ 1.,  0.,  0.,  1.,  0.],\n",
       "        [ 0.,  1.,  0.,  0.,  0.]]), array([[ 0.,  1.,  0.,  1.,  0.],\n",
       "        [ 1.,  0.,  1.,  1.,  0.],\n",
       "        [ 1.,  1.,  0.,  1.,  0.],\n",
       "        [ 1.,  1.,  1.,  1.,  0.],\n",
       "        [ 0.,  0.,  0.,  0.,  0.]])]"
      ]
     },
     "execution_count": 97,
     "metadata": {},
     "output_type": "execute_result"
    }
   ],
   "source": [
    "# f1-scores PER HORSE\n",
    "len(per_horse_ys)\n",
    "per_horse_ys[1].shape\n",
    "# List of 6 arrays of shape (nb_samples, 5)"
   ]
  },
  {
   "cell_type": "code",
   "execution_count": 94,
   "metadata": {},
   "outputs": [
    {
     "name": "stdout",
     "output_type": "stream",
     "text": [
      "[0.33333333333333331, 0.14285714285714288, 0.58041958041958031, 0.076923076923076913]\n",
      "Average\n",
      "0.283383283383\n",
      "[0.55555555555555558, 0.55555555555555558, 0.6051282051282052, 0.48148148148148157]\n",
      "Average\n",
      "0.54943019943\n",
      "[0.5, 0.87301587301587302, 0.87301587301587302, 0.46666666666666667]\n",
      "Average\n",
      "0.678174603175\n",
      "[0.6428571428571429, 0.64545454545454539, 0.76666666666666672, 0.75]\n",
      "Average\n",
      "0.701244588745\n",
      "[0.65800865800865793, 0.33333333333333337, 0.7777777777777779, 0.54444444444444451]\n",
      "Average\n",
      "0.578391053391\n",
      "[0.59999999999999998, 0.80000000000000004, 0.78095238095238084, 0.22857142857142859]\n",
      "Average\n",
      "0.602380952381\n"
     ]
    }
   ],
   "source": [
    "horse_fscores = []\n",
    "horse_accs = []\n",
    "averages = []\n",
    "averages_accs = []\n",
    "for h in range(0,6):\n",
    "    ar = per_horse_ys[h]\n",
    "    f_scores = []\n",
    "    accs = []\n",
    "    y_true = ar[:,0]\n",
    "    for v in range(1,1+len(vets)):\n",
    "        y_pred = ar[:,v]\n",
    "        fscore = f1_score(y_true, y_pred, average='weighted')\n",
    "        acc = accuracy_score(y_true, y_pred)\n",
    "        f_scores.append(fscore)\n",
    "        accs.append(acc)\n",
    "    print f_scores\n",
    "    print 'Average'\n",
    "    av = np.average(f_scores)\n",
    "    print av\n",
    "    avacc = np.average(accs)\n",
    "    averages.append(av)\n",
    "    averages_accs.append(avacc)\n",
    "    horse_fscores.append(f_scores)\n",
    "    horse_accs.append(accs)\n",
    "\n"
   ]
  },
  {
   "cell_type": "code",
   "execution_count": 95,
   "metadata": {},
   "outputs": [
    {
     "data": {
      "text/plain": [
       "0.56550078008411353"
      ]
     },
     "execution_count": 95,
     "metadata": {},
     "output_type": "execute_result"
    }
   ],
   "source": [
    "total_av = np.average(np.asarray(averages))\n",
    "total_av"
   ]
  },
  {
   "cell_type": "code",
   "execution_count": 96,
   "metadata": {},
   "outputs": [
    {
     "data": {
      "text/plain": [
       "0.58055555555555549"
      ]
     },
     "execution_count": 96,
     "metadata": {},
     "output_type": "execute_result"
    }
   ],
   "source": [
    "total_av_acc = np.average(np.asarray(averages_accs))\n",
    "total_av_acc"
   ]
  },
  {
   "cell_type": "code",
   "execution_count": 99,
   "metadata": {},
   "outputs": [
    {
     "data": {
      "text/plain": [
       "0.13611819709446238"
      ]
     },
     "execution_count": 99,
     "metadata": {},
     "output_type": "execute_result"
    }
   ],
   "source": [
    "total_av_std_acc = np.std(np.asarray(averages_accs))\n",
    "total_av_std_acc"
   ]
  },
  {
   "cell_type": "code",
   "execution_count": 87,
   "metadata": {},
   "outputs": [
    {
     "data": {
      "text/plain": [
       "array([[ 0.33333333,  0.14285714,  0.58041958,  0.07692308],\n",
       "       [ 0.55555556,  0.55555556,  0.60512821,  0.48148148],\n",
       "       [ 0.5       ,  0.87301587,  0.87301587,  0.46666667],\n",
       "       [ 0.64285714,  0.64545455,  0.76666667,  0.75      ],\n",
       "       [ 0.65800866,  0.33333333,  0.77777778,  0.54444444],\n",
       "       [ 0.6       ,  0.8       ,  0.78095238,  0.22857143]])"
      ]
     },
     "execution_count": 87,
     "metadata": {},
     "output_type": "execute_result"
    }
   ],
   "source": [
    "np.asarray(horse_fscores)"
   ]
  },
  {
   "cell_type": "code",
   "execution_count": 88,
   "metadata": {},
   "outputs": [
    {
     "data": {
      "text/plain": [
       "array([[ 0.33333333,  0.16666667,  0.58333333,  0.08333333],\n",
       "       [ 0.55555556,  0.44444444,  0.55555556,  0.55555556],\n",
       "       [ 0.5       ,  0.875     ,  0.75      ,  0.5       ],\n",
       "       [ 0.5       ,  0.5       ,  0.625     ,  0.5       ],\n",
       "       [ 0.66666667,  0.33333333,  0.77777778,  0.55555556],\n",
       "       [ 0.4       ,  0.6       ,  0.6       ,  0.4       ]])"
      ]
     },
     "execution_count": 88,
     "metadata": {},
     "output_type": "execute_result"
    }
   ],
   "source": [
    "scores_as_array"
   ]
  },
  {
   "cell_type": "code",
   "execution_count": null,
   "metadata": {
    "collapsed": true
   },
   "outputs": [],
   "source": []
  },
  {
   "cell_type": "code",
   "execution_count": null,
   "metadata": {
    "collapsed": true
   },
   "outputs": [],
   "source": []
  }
 ],
 "metadata": {
  "kernelspec": {
   "display_name": "Python 2",
   "language": "python",
   "name": "python2"
  },
  "language_info": {
   "codemirror_mode": {
    "name": "ipython",
    "version": 2
   },
   "file_extension": ".py",
   "mimetype": "text/x-python",
   "name": "python",
   "nbconvert_exporter": "python",
   "pygments_lexer": "ipython2",
   "version": "2.7.13"
  }
 },
 "nbformat": 4,
 "nbformat_minor": 2
}
